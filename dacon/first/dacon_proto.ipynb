{
 "cells": [
  {
   "cell_type": "code",
   "execution_count": 23,
   "id": "5ee034f8",
   "metadata": {},
   "outputs": [],
   "source": [
    "import numpy as np\n",
    "import pandas as pd\n",
    "import seaborn as sns\n",
    "import xgboost as xgb\n",
    "import matplotlib.pyplot as plt\n",
    "\n",
    "from sklearn.model_selection import GridSearchCV\n",
    "from sklearn.model_selection import KFold\n",
    "from sklearn.compose import ColumnTransformer\n",
    "from sklearn.preprocessing import OneHotEncoder\n",
    "from sklearn.model_selection import train_test_split\n",
    "from sklearn.model_selection import cross_val_predict\n",
    "from sklearn.metrics import confusion_matrix\n",
    "from sklearn.metrics import precision_score, recall_score, f1_score, roc_auc_score\n",
    "\n",
    "import warnings\n",
    "warnings.filterwarnings('ignore')"
   ]
  },
  {
   "cell_type": "code",
   "execution_count": 3,
   "id": "4ed030e3",
   "metadata": {},
   "outputs": [],
   "source": [
    "def get_eval(y_test, y_pred):\n",
    "    cf = confusion_matrix(y_test, preds)\n",
    "    print(\"confusion matrix : \")\n",
    "    print(cf)\n",
    "    p = precision_score(y_test, preds)\n",
    "    print(\"precision score :\", p)\n",
    "    r = recall_score(y_test, preds)\n",
    "    print(\"recall score :\", r)\n",
    "    f1 = f1_score(y_test, preds)\n",
    "    print(\"f1 score :\", f1)\n",
    "    auc = roc_auc_score(y_test, preds)\n",
    "    print(\"auc score :\", auc)"
   ]
  },
  {
   "cell_type": "code",
   "execution_count": null,
   "id": "c77faa57",
   "metadata": {},
   "outputs": [],
   "source": [
    "train  = pd.read_csv('competition_data/train.csv')\n",
    "test  = pd.read_csv('competition_data/test.csv')"
   ]
  },
  {
   "cell_type": "code",
   "execution_count": null,
   "id": "c9d48ae7",
   "metadata": {},
   "outputs": [],
   "source": [
    "train.head()"
   ]
  },
  {
   "cell_type": "code",
   "execution_count": null,
   "id": "938753f8",
   "metadata": {},
   "outputs": [],
   "source": [
    "#train.info()"
   ]
  },
  {
   "cell_type": "code",
   "execution_count": null,
   "id": "807ea967",
   "metadata": {
    "scrolled": false
   },
   "outputs": [],
   "source": [
    "#test.info()"
   ]
  },
  {
   "cell_type": "markdown",
   "id": "12da49bc",
   "metadata": {},
   "source": [
    "# EDA"
   ]
  },
  {
   "cell_type": "code",
   "execution_count": null,
   "id": "61cf5f40",
   "metadata": {},
   "outputs": [],
   "source": [
    "# 연속형 변수간 상관관계\n",
    "numerical_feats = train.dtypes[train.dtypes != \"object\"].index \n",
    "colormap = plt.cm.PuBu \n",
    "sns.set(font_scale=1.0) \n",
    "\n",
    "corr_data = train[numerical_feats]\n",
    "f , ax = plt.subplots(figsize = (14,12)) \n",
    "plt.title('Correlation of Numeric Features',y=1,size=18) \n",
    "sns.heatmap(corr_data.corr(),square = True, linewidths = 0.1, cmap = colormap, linecolor = \"white\", vmax=0.8)"
   ]
  },
  {
   "cell_type": "code",
   "execution_count": null,
   "id": "a8d9eb7e",
   "metadata": {},
   "outputs": [],
   "source": [
    "# nerdiness와 높은 상관성 가진 변수들 10개\n",
    "corrmat=train.corr()\n",
    "col1 = corrmat.nlargest(15, 'nerdiness')['nerdiness'].index\n",
    "corrmat1 = train[col1].corr()\n",
    "plt.subplots(figsize = (10,6))\n",
    "sns.heatmap(corrmat1, annot=True,  cmap = colormap, linecolor = \"white\")\n",
    "plt.show()"
   ]
  },
  {
   "cell_type": "markdown",
   "id": "9dfed476",
   "metadata": {},
   "source": [
    "# 모델링"
   ]
  },
  {
   "cell_type": "code",
   "execution_count": 12,
   "id": "1ac392b2",
   "metadata": {},
   "outputs": [],
   "source": [
    "train  = pd.read_csv('competition_data/train.csv')\n",
    "test  = pd.read_csv('competition_data/test.csv')"
   ]
  },
  {
   "cell_type": "code",
   "execution_count": 13,
   "id": "903b891f",
   "metadata": {},
   "outputs": [],
   "source": [
    "# 쓸모없는 변수 제거\n",
    "train = train.drop(['index', 'country'],axis = 1)\n",
    "test = test.drop(['index', 'country'],axis = 1)"
   ]
  },
  {
   "cell_type": "code",
   "execution_count": 14,
   "id": "e52e52e3",
   "metadata": {},
   "outputs": [],
   "source": [
    "# train을 target과 feature로 나눔\n",
    "train_x=train.drop(['nerdiness'], axis=1)\n",
    "train_y=train['nerdiness']"
   ]
  },
  {
   "cell_type": "code",
   "execution_count": 15,
   "id": "3f90a2c1",
   "metadata": {},
   "outputs": [],
   "source": [
    "# test, validation 데이터 셋 분리\n",
    "x_train, x_valid, y_train, y_valid=train_test_split(train_x, train_y, test_size=0.8, random_state=345)"
   ]
  },
  {
   "cell_type": "code",
   "execution_count": 26,
   "id": "1b1353f2",
   "metadata": {},
   "outputs": [],
   "source": [
    "# XGBoost 파라미터 설정\n",
    "params = {'max_depth':[3,4,5,6,7,8,9],\n",
    "         'eta':[0.1,0.2,0.3],\n",
    "         'gamma':[1,2,3,4,5],\n",
    "         'lambda':[1,2,3,4,5]}\n",
    "'''\n",
    "'early_stoppings':100\n",
    "'''\n",
    "\n",
    "num_rounds=400"
   ]
  },
  {
   "cell_type": "code",
   "execution_count": 28,
   "id": "2ce3bc2e",
   "metadata": {},
   "outputs": [
    {
     "name": "stdout",
     "output_type": "stream",
     "text": [
      "Fitting 5 folds for each of 525 candidates, totalling 2625 fits\n",
      "[13:39:24] WARNING: C:/Users/Administrator/workspace/xgboost-win64_release_1.6.0/src/learner.cc:627: \n",
      "Parameters: { \"params\" } might not be used.\n",
      "\n",
      "  This could be a false alarm, with some parameters getting used by language bindings but\n",
      "  then being mistakenly passed down to XGBoost core, or some parameter actually being used\n",
      "  but getting flagged wrongly here. Please open an issue if you find any such cases.\n",
      "\n",
      "\n",
      "[0]\tvalidation_0-auc:0.71818\n",
      "[1]\tvalidation_0-auc:0.75234\n",
      "[2]\tvalidation_0-auc:0.76286\n",
      "[3]\tvalidation_0-auc:0.76864\n",
      "[4]\tvalidation_0-auc:0.77378\n",
      "[5]\tvalidation_0-auc:0.77776\n",
      "[6]\tvalidation_0-auc:0.77926\n",
      "[7]\tvalidation_0-auc:0.78043\n",
      "[8]\tvalidation_0-auc:0.78162\n",
      "[9]\tvalidation_0-auc:0.78286\n",
      "[10]\tvalidation_0-auc:0.78355\n",
      "[11]\tvalidation_0-auc:0.78298\n",
      "[12]\tvalidation_0-auc:0.78323\n",
      "[13]\tvalidation_0-auc:0.78325\n",
      "[14]\tvalidation_0-auc:0.78334\n",
      "[15]\tvalidation_0-auc:0.78357\n",
      "[16]\tvalidation_0-auc:0.78297\n",
      "[17]\tvalidation_0-auc:0.78299\n",
      "[18]\tvalidation_0-auc:0.78353\n",
      "[19]\tvalidation_0-auc:0.78379\n",
      "[20]\tvalidation_0-auc:0.78411\n",
      "[21]\tvalidation_0-auc:0.78411\n",
      "[22]\tvalidation_0-auc:0.78411\n",
      "[23]\tvalidation_0-auc:0.78411\n",
      "[24]\tvalidation_0-auc:0.78411\n",
      "[25]\tvalidation_0-auc:0.78411\n",
      "[26]\tvalidation_0-auc:0.78411\n",
      "[27]\tvalidation_0-auc:0.78411\n",
      "[28]\tvalidation_0-auc:0.78411\n",
      "[29]\tvalidation_0-auc:0.78411\n",
      "[30]\tvalidation_0-auc:0.78411\n",
      "[31]\tvalidation_0-auc:0.78411\n",
      "[32]\tvalidation_0-auc:0.78411\n",
      "[33]\tvalidation_0-auc:0.78411\n",
      "[34]\tvalidation_0-auc:0.78411\n",
      "[35]\tvalidation_0-auc:0.78411\n",
      "[36]\tvalidation_0-auc:0.78411\n",
      "[37]\tvalidation_0-auc:0.78411\n",
      "[38]\tvalidation_0-auc:0.78411\n",
      "[39]\tvalidation_0-auc:0.78411\n",
      "[40]\tvalidation_0-auc:0.78411\n",
      "[41]\tvalidation_0-auc:0.78411\n",
      "[42]\tvalidation_0-auc:0.78411\n",
      "[43]\tvalidation_0-auc:0.78411\n",
      "[44]\tvalidation_0-auc:0.78411\n",
      "[45]\tvalidation_0-auc:0.78411\n",
      "[46]\tvalidation_0-auc:0.78411\n",
      "[47]\tvalidation_0-auc:0.78411\n",
      "[48]\tvalidation_0-auc:0.78411\n",
      "[49]\tvalidation_0-auc:0.78411\n",
      "[50]\tvalidation_0-auc:0.78411\n",
      "[51]\tvalidation_0-auc:0.78411\n",
      "[52]\tvalidation_0-auc:0.78411\n",
      "[53]\tvalidation_0-auc:0.78411\n",
      "[54]\tvalidation_0-auc:0.78411\n",
      "[55]\tvalidation_0-auc:0.78411\n",
      "[56]\tvalidation_0-auc:0.78411\n",
      "[57]\tvalidation_0-auc:0.78411\n",
      "[58]\tvalidation_0-auc:0.78411\n",
      "[59]\tvalidation_0-auc:0.78411\n",
      "[60]\tvalidation_0-auc:0.78411\n",
      "[61]\tvalidation_0-auc:0.78411\n",
      "[62]\tvalidation_0-auc:0.78411\n",
      "[63]\tvalidation_0-auc:0.78411\n",
      "[64]\tvalidation_0-auc:0.78411\n",
      "[65]\tvalidation_0-auc:0.78411\n",
      "[66]\tvalidation_0-auc:0.78411\n",
      "[67]\tvalidation_0-auc:0.78411\n",
      "[68]\tvalidation_0-auc:0.78411\n",
      "[69]\tvalidation_0-auc:0.78411\n",
      "[70]\tvalidation_0-auc:0.78411\n",
      "[71]\tvalidation_0-auc:0.78411\n",
      "[72]\tvalidation_0-auc:0.78411\n",
      "[73]\tvalidation_0-auc:0.78411\n",
      "[74]\tvalidation_0-auc:0.78411\n",
      "[75]\tvalidation_0-auc:0.78411\n",
      "[76]\tvalidation_0-auc:0.78411\n",
      "[77]\tvalidation_0-auc:0.78411\n",
      "[78]\tvalidation_0-auc:0.78411\n",
      "[79]\tvalidation_0-auc:0.78411\n",
      "[80]\tvalidation_0-auc:0.78411\n",
      "[81]\tvalidation_0-auc:0.78411\n",
      "[82]\tvalidation_0-auc:0.78411\n",
      "[83]\tvalidation_0-auc:0.78411\n",
      "[84]\tvalidation_0-auc:0.78411\n",
      "[85]\tvalidation_0-auc:0.78411\n",
      "[86]\tvalidation_0-auc:0.78411\n",
      "[87]\tvalidation_0-auc:0.78411\n",
      "[88]\tvalidation_0-auc:0.78411\n",
      "[89]\tvalidation_0-auc:0.78411\n",
      "[90]\tvalidation_0-auc:0.78411\n",
      "[91]\tvalidation_0-auc:0.78411\n",
      "[92]\tvalidation_0-auc:0.78411\n",
      "[93]\tvalidation_0-auc:0.78411\n",
      "[94]\tvalidation_0-auc:0.78411\n",
      "[95]\tvalidation_0-auc:0.78411\n",
      "[96]\tvalidation_0-auc:0.78411\n",
      "[97]\tvalidation_0-auc:0.78411\n",
      "[98]\tvalidation_0-auc:0.78411\n",
      "[99]\tvalidation_0-auc:0.78411\n",
      "0.7296666666666667\n",
      "{'eta': 0.1, 'gamma': 4, 'lambda': 1, 'max_depth': 4}\n"
     ]
    }
   ],
   "source": [
    "# 모델 학습\n",
    "\n",
    "kf = KFold(n_splits=5, shuffle=True, random_state=42)\n",
    "\n",
    "model = xgb.XGBClassifier(params = params)\n",
    "\n",
    "xgb_model_gridCV = GridSearchCV(xgb_model, param_grid=params, cv=kf,n_jobs = 5,verbose=True)\n",
    "xgb_model_gridCV = xgb_model_gridCV.fit(x_train, y_train, eval_metric = 'auc', eval_set = [(x_valid, y_valid)])\n",
    "\n",
    "print(xgb_model_gridCV.best_score_)\n",
    "print(xgb_model_gridCV.best_params_)"
   ]
  },
  {
   "cell_type": "code",
   "execution_count": 10,
   "id": "4601481a",
   "metadata": {},
   "outputs": [
    {
     "name": "stdout",
     "output_type": "stream",
     "text": [
      "예측값 10개: [1, 0, 1, 1, 0, 0, 1, 1, 1, 1]\n"
     ]
    }
   ],
   "source": [
    "# 예측(validation)\n",
    "pred_probs = xgb_model.predict(x_valid)\n",
    "preds=[1 if x > 0.5 else 0 for x in pred_probs]\n",
    "print('예측값 10개:',preds[:10])"
   ]
  },
  {
   "cell_type": "code",
   "execution_count": 11,
   "id": "64ecb90c",
   "metadata": {},
   "outputs": [
    {
     "name": "stdout",
     "output_type": "stream",
     "text": [
      "confusion matrix : \n",
      "[[3497 1883]\n",
      " [1526 5094]]\n",
      "precision score : 0.7301132291815967\n",
      "recall score : 0.7694864048338369\n",
      "f1 score : 0.7492829300581011\n",
      "auc score : 0.7097432024169184\n"
     ]
    }
   ],
   "source": [
    "get_eval(y_valid, preds)"
   ]
  },
  {
   "cell_type": "markdown",
   "id": "ad09fcc9",
   "metadata": {},
   "source": [
    "# 제출 파일 생성"
   ]
  },
  {
   "cell_type": "code",
   "execution_count": null,
   "id": "9a7a254a",
   "metadata": {},
   "outputs": [],
   "source": [
    "submission = pd.read_csv('competition_data/sample_submission.csv')\n",
    "\n",
    "submission"
   ]
  },
  {
   "cell_type": "code",
   "execution_count": null,
   "id": "ab9f5a67",
   "metadata": {},
   "outputs": [],
   "source": [
    "pred_test = xgb_model.predict(test)\n",
    "submission[\"nerdiness\"]=[1 if x > 0.5 else 0 for x in pred_test]"
   ]
  },
  {
   "cell_type": "code",
   "execution_count": null,
   "id": "05572d07",
   "metadata": {},
   "outputs": [],
   "source": [
    "submission"
   ]
  },
  {
   "cell_type": "code",
   "execution_count": null,
   "id": "18eac3fc",
   "metadata": {},
   "outputs": [],
   "source": [
    "submission.to_csv(\"baseline.csv\", index = False)"
   ]
  },
  {
   "cell_type": "code",
   "execution_count": null,
   "id": "5fa53a8b",
   "metadata": {},
   "outputs": [],
   "source": []
  },
  {
   "cell_type": "code",
   "execution_count": null,
   "id": "17c1d705",
   "metadata": {},
   "outputs": [],
   "source": []
  }
 ],
 "metadata": {
  "kernelspec": {
   "display_name": "Python 3 (ipykernel)",
   "language": "python",
   "name": "python3"
  },
  "language_info": {
   "codemirror_mode": {
    "name": "ipython",
    "version": 3
   },
   "file_extension": ".py",
   "mimetype": "text/x-python",
   "name": "python",
   "nbconvert_exporter": "python",
   "pygments_lexer": "ipython3",
   "version": "3.9.7"
  }
 },
 "nbformat": 4,
 "nbformat_minor": 5
}
